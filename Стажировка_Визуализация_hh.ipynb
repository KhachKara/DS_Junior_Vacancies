{
  "nbformat": 4,
  "nbformat_minor": 0,
  "metadata": {
    "colab": {
      "provenance": [],
      "collapsed_sections": []
    },
    "kernelspec": {
      "name": "python3",
      "display_name": "Python 3"
    },
    "language_info": {
      "name": "python"
    }
  },
  "cells": [
    {
      "cell_type": "markdown",
      "source": [
        "## code"
      ],
      "metadata": {
        "id": "BA3sGFgZkvDr"
      }
    },
    {
      "cell_type": "code",
      "source": [
        "import requests\n",
        "import json\n",
        "import time\n",
        "import csv\n",
        "import google.colab"
      ],
      "metadata": {
        "id": "EZb20q9nTZYi"
      },
      "execution_count": null,
      "outputs": []
    },
    {
      "cell_type": "code",
      "source": [
        "def get_page(area, page = 0):\n",
        "    '''\n",
        "    Создаем метод  для получения страницы со списком вакансий.\n",
        "    Аргументы: \n",
        "        page - индекс страницы, начинается с 0. \n",
        "        Значение по умолчанию 0, то есть первая страница\n",
        "    '''\n",
        "\n",
        "    # Справочник для параметров GET - запроса\n",
        "    params = {\n",
        "        'text': 'Data Analyst', # Текст фильтра. В имени должно быть слово \"Аналитик\"\n",
        "        'area': area, # Поиск осуществляется по вакансисям города Москва\n",
        "        'page': page, # Индекс страницы поиск на HH\n",
        "        'per_page': 1000 # кол-во вкансий на 1 странице  \n",
        "    } \n",
        "\n",
        "    req = requests.get('https://api.hh.ru/vacancies', params)  # Посылаем запрос к API\n",
        "    data = req.content.decode()  # Декодируем его отает, чтобы кириллица отобразилось корректно\n",
        "    req.close()\n",
        "    return data"
      ],
      "metadata": {
        "id": "vrqjZrqsTcTA"
      },
      "execution_count": null,
      "outputs": []
    },
    {
      "cell_type": "code",
      "source": [
        "def save_to_file(item):\n",
        "    js_objs = []\n",
        "    with open(f\"{item['name'].replace(' ', '_')}.csv\", 'w', newline='', encoding='utf-8') as csvfile:\n",
        "        writer = csv.DictWriter(csvfile, fieldnames=fieldnames)\n",
        "        writer.writeheader()\n",
        "        for page in range(0, 20):\n",
        "            js_obj = json.loads(get_page(item['id'], page))\n",
        "            try:\n",
        "                js_objs.extend(js_obj['items'])\n",
        "\n",
        "                for i in js_obj['items']: \n",
        "                    writer.writerow(i)\n",
        "\n",
        "                # time.sleep(0.25)\n",
        "            except:\n",
        "                pass"
      ],
      "metadata": {
        "id": "Mvtc6lgNBP3J"
      },
      "execution_count": null,
      "outputs": []
    },
    {
      "cell_type": "code",
      "source": [
        "areas = requests.get('https://api.hh.ru/areas').json()\n",
        "countries = regions = cities = []"
      ],
      "metadata": {
        "id": "5i95zPS6wtZ8"
      },
      "execution_count": null,
      "outputs": []
    },
    {
      "cell_type": "code",
      "source": [
        "fieldnames = ['id', 'premium', 'name', 'department', 'has_test', 'response_letter_required', 'area', 'salary', 'type', 'address', 'response_url', \n",
        "            'sort_point_distance', 'published_at', 'created_at', 'archived', 'apply_alternate_url', 'insider_interview', 'url', 'adv_response_url',\n",
        "            'alternate_url', 'relations', 'employer', 'name', 'url', 'alternate_url', 'logo_urls', '90', '240', 'vacancies_url', 'trusted',\n",
        "            'snippet', 'responsibility', 'contacts', 'schedule', 'working_days', 'working_time_intervals', 'working_time_modes', 'accept_temporary'\n",
        "            ]\n",
        "\n",
        "for country in areas:\n",
        "    countries.append([country['name'], country['id']])\n",
        "    for region in country['areas']:\n",
        "        regions.append(region['name'])\n",
        "        if country['name'] == 'Другие регионы':\n",
        "            save_to_file(region)\n",
        "        for city in region['areas']:\n",
        "            cities.append(city['name'])\n",
        "            if len(city['id']) <= 3:\n",
        "                save_to_file(city)\n"
      ],
      "metadata": {
        "id": "AaAkKiT6w5dN"
      },
      "execution_count": null,
      "outputs": []
    }
  ]
}