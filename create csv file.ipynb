{
 "cells": [
  {
   "cell_type": "code",
   "execution_count": 50,
   "id": "1d33614a",
   "metadata": {},
   "outputs": [],
   "source": [
    "import csv\n",
    "import os"
   ]
  },
  {
   "cell_type": "code",
   "execution_count": 62,
   "id": "ec535ce8",
   "metadata": {},
   "outputs": [
    {
     "name": "stdout",
     "output_type": "stream",
     "text": [
      "id,premium,name,department,has_test,response_letter_required,area,salary,type,address,response_url,sort_point_distance,published_at,created_at,archived,apply_alternate_url,insider_interview,url,adv_response_url,alternate_url,relations,employer,name,url,alternate_url,logo_urls,90,240,vacancies_url,trusted,snippet,responsibility,contacts,schedule,working_days,working_time_intervals,working_time_modes,accept_temporary\n",
      "\n"
     ]
    }
   ],
   "source": [
    "path = 'o:\\\\Backups\\\\TGU\\\\07 Визуализация данных\\\\HH.ru vacancies by cities\\\\junior\\\\'\n",
    "file_lst = os.listdir(path)\n",
    "with open(path + 'merge.csv', 'w', newline='', encoding='utf-8') as csv_file:\n",
    "    with open(path + 'Киев.csv', 'r', encoding='utf-8') as f:\n",
    "        writer = csv.DictWriter(csv_file, fieldnames=f.readlines()[0])\n",
    "        print(writer.fieldnames)"
   ]
  },
  {
   "cell_type": "code",
   "execution_count": null,
   "id": "826cfdac",
   "metadata": {},
   "outputs": [],
   "source": []
  }
 ],
 "metadata": {
  "kernelspec": {
   "display_name": "Python 3 (ipykernel)",
   "language": "python",
   "name": "python3"
  },
  "language_info": {
   "codemirror_mode": {
    "name": "ipython",
    "version": 3
   },
   "file_extension": ".py",
   "mimetype": "text/x-python",
   "name": "python",
   "nbconvert_exporter": "python",
   "pygments_lexer": "ipython3",
   "version": "3.10.7"
  }
 },
 "nbformat": 4,
 "nbformat_minor": 5
}
